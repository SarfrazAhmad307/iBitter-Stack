{
 "cells": [
  {
   "cell_type": "code",
   "execution_count": 1,
   "id": "28f7ff4c",
   "metadata": {},
   "outputs": [],
   "source": [
    "import pandas as pd"
   ]
  },
  {
   "cell_type": "code",
   "execution_count": 2,
   "id": "fb4c51ae",
   "metadata": {},
   "outputs": [],
   "source": [
    "train = pd.read_excel('../data/bitter_train.xlsx')\n",
    "test = pd.read_excel('../data/bitter_test.xlsx')"
   ]
  },
  {
   "cell_type": "code",
   "execution_count": 3,
   "id": "cd0fe9bd",
   "metadata": {},
   "outputs": [
    {
     "data": {
      "text/plain": [
       "((512, 2), (128, 2))"
      ]
     },
     "execution_count": 3,
     "metadata": {},
     "output_type": "execute_result"
    }
   ],
   "source": [
    "train.shape, test.shape"
   ]
  },
  {
   "cell_type": "code",
   "execution_count": 4,
   "id": "32ff0d82",
   "metadata": {},
   "outputs": [
    {
     "data": {
      "text/html": [
       "<div>\n",
       "<style scoped>\n",
       "    .dataframe tbody tr th:only-of-type {\n",
       "        vertical-align: middle;\n",
       "    }\n",
       "\n",
       "    .dataframe tbody tr th {\n",
       "        vertical-align: top;\n",
       "    }\n",
       "\n",
       "    .dataframe thead th {\n",
       "        text-align: right;\n",
       "    }\n",
       "</style>\n",
       "<table border=\"1\" class=\"dataframe\">\n",
       "  <thead>\n",
       "    <tr style=\"text-align: right;\">\n",
       "      <th></th>\n",
       "      <th>sequence</th>\n",
       "      <th>label</th>\n",
       "    </tr>\n",
       "  </thead>\n",
       "  <tbody>\n",
       "    <tr>\n",
       "      <th>0</th>\n",
       "      <td>YYY</td>\n",
       "      <td>0</td>\n",
       "    </tr>\n",
       "    <tr>\n",
       "      <th>1</th>\n",
       "      <td>IVY</td>\n",
       "      <td>1</td>\n",
       "    </tr>\n",
       "    <tr>\n",
       "      <th>2</th>\n",
       "      <td>PQAFP</td>\n",
       "      <td>1</td>\n",
       "    </tr>\n",
       "    <tr>\n",
       "      <th>3</th>\n",
       "      <td>VPPFLE</td>\n",
       "      <td>0</td>\n",
       "    </tr>\n",
       "    <tr>\n",
       "      <th>4</th>\n",
       "      <td>KVLAGM</td>\n",
       "      <td>1</td>\n",
       "    </tr>\n",
       "  </tbody>\n",
       "</table>\n",
       "</div>"
      ],
      "text/plain": [
       "  sequence  label\n",
       "0      YYY      0\n",
       "1      IVY      1\n",
       "2    PQAFP      1\n",
       "3   VPPFLE      0\n",
       "4   KVLAGM      1"
      ]
     },
     "execution_count": 4,
     "metadata": {},
     "output_type": "execute_result"
    }
   ],
   "source": [
    "train.head()"
   ]
  },
  {
   "cell_type": "code",
   "execution_count": 5,
   "id": "3088d799",
   "metadata": {},
   "outputs": [
    {
     "data": {
      "text/html": [
       "<div>\n",
       "<style scoped>\n",
       "    .dataframe tbody tr th:only-of-type {\n",
       "        vertical-align: middle;\n",
       "    }\n",
       "\n",
       "    .dataframe tbody tr th {\n",
       "        vertical-align: top;\n",
       "    }\n",
       "\n",
       "    .dataframe thead th {\n",
       "        text-align: right;\n",
       "    }\n",
       "</style>\n",
       "<table border=\"1\" class=\"dataframe\">\n",
       "  <thead>\n",
       "    <tr style=\"text-align: right;\">\n",
       "      <th></th>\n",
       "      <th>sequence</th>\n",
       "      <th>label</th>\n",
       "    </tr>\n",
       "  </thead>\n",
       "  <tbody>\n",
       "    <tr>\n",
       "      <th>0</th>\n",
       "      <td>RMLGQTPTK</td>\n",
       "      <td>1</td>\n",
       "    </tr>\n",
       "    <tr>\n",
       "      <th>1</th>\n",
       "      <td>PSFQP</td>\n",
       "      <td>1</td>\n",
       "    </tr>\n",
       "    <tr>\n",
       "      <th>2</th>\n",
       "      <td>PGP</td>\n",
       "      <td>0</td>\n",
       "    </tr>\n",
       "    <tr>\n",
       "      <th>3</th>\n",
       "      <td>FPF</td>\n",
       "      <td>0</td>\n",
       "    </tr>\n",
       "    <tr>\n",
       "      <th>4</th>\n",
       "      <td>ALNEINQFYQK</td>\n",
       "      <td>1</td>\n",
       "    </tr>\n",
       "  </tbody>\n",
       "</table>\n",
       "</div>"
      ],
      "text/plain": [
       "      sequence  label\n",
       "0    RMLGQTPTK      1\n",
       "1        PSFQP      1\n",
       "2          PGP      0\n",
       "3          FPF      0\n",
       "4  ALNEINQFYQK      1"
      ]
     },
     "execution_count": 5,
     "metadata": {},
     "output_type": "execute_result"
    }
   ],
   "source": [
    "test.head()"
   ]
  },
  {
   "cell_type": "markdown",
   "id": "03562ef6",
   "metadata": {},
   "source": [
    "# Sequence Similarity Filtering for Train/Test Splits\n",
    "To ensure a fair evaluation and address reviewer concerns, we will:\n",
    "- Calculate pairwise sequence identity within the training set, within the test set, and between training and test sets.\n",
    "- Remove or flag peptides that exceed a chosen similarity threshold (e.g., 80% or 90%) in any of these comparisons.\n",
    "- This process helps avoid data leakage and ensures that highly similar peptides do not appear in both training and test sets."
   ]
  },
  {
   "cell_type": "code",
   "execution_count": 6,
   "id": "f066d9d8",
   "metadata": {},
   "outputs": [],
   "source": [
    "# Install Biopython if not already installed\n",
    "!pip install biopython --quiet"
   ]
  },
  {
   "cell_type": "code",
   "execution_count": 7,
   "id": "a93169dd",
   "metadata": {},
   "outputs": [
    {
     "name": "stderr",
     "output_type": "stream",
     "text": [
      "/Users/sarfrazahmad/.pyenv/versions/3.11.13/lib/python3.11/site-packages/Bio/pairwise2.py:278: BiopythonDeprecationWarning: Bio.pairwise2 has been deprecated, and we intend to remove it in a future release of Biopython. As an alternative, please consider using Bio.Align.PairwiseAligner as a replacement, and contact the Biopython developers if you still need the Bio.pairwise2 module.\n",
      "  warnings.warn(\n"
     ]
    }
   ],
   "source": [
    "from Bio import pairwise2\n",
    "import numpy as np\n",
    "def sequence_identity(seq1, seq2):\n",
    "    \"\"\"Calculate sequence identity percentage between two sequences.\"\"\"\n",
    "    alignments = pairwise2.align.globalxx(seq1, seq2, one_alignment_only=True)\n",
    "    aln1, aln2, score, start, end = alignments[0]\n",
    "    matches = sum(a == b for a, b in zip(aln1, aln2))\n",
    "    return matches / max(len(seq1), len(seq2)) * 100\n",
    "def filter_similar_sequences(df1, df2=None, seq_col='Sequence', threshold=80):\n",
    "    \"\"\"Remove sequences in df1 that are too similar to each other or to those in df2.\"\"\"\n",
    "    keep = np.ones(len(df1), dtype=bool)\n",
    "    seqs1 = df1[seq_col].tolist()\n",
    "    # Within df1\n",
    "    for i in range(len(seqs1)):\n",
    "        for j in range(i+1, len(seqs1)):\n",
    "            if keep[j] and sequence_identity(seqs1[i], seqs1[j]) >= threshold:\n",
    "                keep[j] = False\n",
    "    filtered_df1 = df1[keep].reset_index(drop=True)\n",
    "    # Across df1 and df2\n",
    "    if df2 is not None:\n",
    "        seqs2 = df2[seq_col].tolist()\n",
    "        keep = np.ones(len(filtered_df1), dtype=bool)\n",
    "        for i, s1 in enumerate(filtered_df1[seq_col]):\n",
    "            for s2 in seqs2:\n",
    "                if sequence_identity(s1, s2) >= threshold:\n",
    "                    keep[i] = False\n",
    "                    break\n",
    "        filtered_df1 = filtered_df1[keep].reset_index(drop=True)\n",
    "    return filtered_df1"
   ]
  },
  {
   "cell_type": "code",
   "execution_count": null,
   "id": "a7188ba9",
   "metadata": {},
   "outputs": [
    {
     "name": "stdout",
     "output_type": "stream",
     "text": [
      "Filtered train: 428 sequences\n",
      "Filtered test: 86 sequences\n"
     ]
    }
   ],
   "source": [
    "threshold = 80  # Set your desired threshold here (e.g., 80 or 90)\n",
    "train_filtered = filter_similar_sequences(train, seq_col='sequence', threshold=threshold)\n",
    "test_filtered = filter_similar_sequences(test, seq_col='sequence', threshold=threshold)\n",
    "# Remove test sequences similar to any in train\n",
    "test_filtered = filter_similar_sequences(test_filtered, df2=train_filtered, seq_col='sequence', threshold=threshold)\n",
    "print(f\"Filtered train: {len(train_filtered)} sequences\\nFiltered test: {len(test_filtered)} sequences\")"
   ]
  },
  {
   "cell_type": "code",
   "execution_count": 9,
   "id": "1db81fed",
   "metadata": {},
   "outputs": [
    {
     "data": {
      "text/plain": [
       "((428, 2), (86, 2))"
      ]
     },
     "execution_count": 9,
     "metadata": {},
     "output_type": "execute_result"
    }
   ],
   "source": [
    "train_filtered.shape, test_filtered.shape"
   ]
  },
  {
   "cell_type": "code",
   "execution_count": 10,
   "id": "1bcdd854",
   "metadata": {},
   "outputs": [],
   "source": [
    "train_filtered.to_excel('../data/bitter_train_filtered_80.xlsx', index=False)\n",
    "test_filtered.to_excel('../data/bitter_test_filtered_80.xlsx', index=False)"
   ]
  },
  {
   "cell_type": "code",
   "execution_count": 1,
   "id": "46eceda6",
   "metadata": {},
   "outputs": [],
   "source": [
    "import pandas as pd"
   ]
  },
  {
   "cell_type": "code",
   "execution_count": 2,
   "id": "4732ff68",
   "metadata": {},
   "outputs": [],
   "source": [
    "train = pd.read_excel('../data/bitter_train_filtered_80.xlsx')\n",
    "test = pd.read_excel('../data/bitter_test_filtered_80.xlsx')"
   ]
  },
  {
   "cell_type": "code",
   "execution_count": 3,
   "id": "4228506a",
   "metadata": {},
   "outputs": [
    {
     "data": {
      "text/plain": [
       "((428, 2), (86, 2))"
      ]
     },
     "execution_count": 3,
     "metadata": {},
     "output_type": "execute_result"
    }
   ],
   "source": [
    "train.shape, test.shape"
   ]
  },
  {
   "cell_type": "code",
   "execution_count": 4,
   "id": "04b5c387",
   "metadata": {},
   "outputs": [
    {
     "data": {
      "text/plain": [
       "(label\n",
       " 1    219\n",
       " 0    209\n",
       " Name: count, dtype: int64,\n",
       " label\n",
       " 1    44\n",
       " 0    42\n",
       " Name: count, dtype: int64)"
      ]
     },
     "execution_count": 4,
     "metadata": {},
     "output_type": "execute_result"
    }
   ],
   "source": [
    "# check label distribution\n",
    "train['label'].value_counts(), test['label'].value_counts()"
   ]
  },
  {
   "cell_type": "code",
   "execution_count": null,
   "id": "efd964d1",
   "metadata": {},
   "outputs": [],
   "source": []
  }
 ],
 "metadata": {
  "kernelspec": {
   "display_name": "3.11.13",
   "language": "python",
   "name": "python3"
  },
  "language_info": {
   "codemirror_mode": {
    "name": "ipython",
    "version": 3
   },
   "file_extension": ".py",
   "mimetype": "text/x-python",
   "name": "python",
   "nbconvert_exporter": "python",
   "pygments_lexer": "ipython3",
   "version": "3.11.13"
  }
 },
 "nbformat": 4,
 "nbformat_minor": 5
}
